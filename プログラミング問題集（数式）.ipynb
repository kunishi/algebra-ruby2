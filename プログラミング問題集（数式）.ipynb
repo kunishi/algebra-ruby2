{
  "nbformat": 4,
  "nbformat_minor": 0,
  "metadata": {
    "colab": {
      "name": "プログラミング問題集（数式）.ipynb",
      "provenance": [],
      "authorship_tag": "ABX9TyMPfjwjEj08tybPDr8HpuCC",
      "include_colab_link": true
    },
    "kernelspec": {
      "name": "python3",
      "display_name": "Python 3"
    },
    "language_info": {
      "name": "python"
    }
  },
  "cells": [
    {
      "cell_type": "markdown",
      "metadata": {
        "id": "view-in-github",
        "colab_type": "text"
      },
      "source": [
        "<a href=\"https://colab.research.google.com/github/kunishi/algebra-ruby2/blob/master/%E3%83%97%E3%83%AD%E3%82%B0%E3%83%A9%E3%83%9F%E3%83%B3%E3%82%B0%E5%95%8F%E9%A1%8C%E9%9B%86%EF%BC%88%E6%95%B0%E5%BC%8F%EF%BC%89.ipynb\" target=\"_parent\"><img src=\"https://colab.research.google.com/assets/colab-badge.svg\" alt=\"Open In Colab\"/></a>"
      ]
    },
    {
      "cell_type": "markdown",
      "metadata": {
        "id": "KXs1xkPnWBSR"
      },
      "source": [
        "# プログラミング問題集\n",
        "以下では、Pythonを使って解答例が書いてある。"
      ]
    },
    {
      "cell_type": "markdown",
      "metadata": {
        "id": "GtrN_SLiWLS3"
      },
      "source": [
        "1. 1から100までの和を求め、結果を表示する。"
      ]
    },
    {
      "cell_type": "code",
      "metadata": {
        "colab": {
          "base_uri": "https://localhost:8080/"
        },
        "id": "RD6pZyttV2__",
        "outputId": "0fd80885-52c7-4d0b-ead8-8251395e5ee6"
      },
      "source": [
        "sum = 0\n",
        "for i in range(101):\n",
        "  sum += i\n",
        "print(sum)"
      ],
      "execution_count": 1,
      "outputs": [
        {
          "output_type": "stream",
          "name": "stdout",
          "text": [
            "5050\n"
          ]
        }
      ]
    },
    {
      "cell_type": "code",
      "metadata": {
        "colab": {
          "base_uri": "https://localhost:8080/"
        },
        "id": "H68_qTpFW54X",
        "outputId": "da32fd80-c680-4880-b9ef-2b0cb5c43067"
      },
      "source": [
        "sum = 0\n",
        "i = 0\n",
        "while i <= 100:\n",
        "  sum += i\n",
        "  i += 1\n",
        "print(sum)"
      ],
      "execution_count": 3,
      "outputs": [
        {
          "output_type": "stream",
          "name": "stdout",
          "text": [
            "5050\n"
          ]
        }
      ]
    },
    {
      "cell_type": "markdown",
      "metadata": {
        "id": "_q4vIoutV5pB"
      },
      "source": [
        "2. 1から100までの奇数の和を求め、結果を表示する。"
      ]
    },
    {
      "cell_type": "code",
      "metadata": {
        "colab": {
          "base_uri": "https://localhost:8080/"
        },
        "id": "p6Og64EvWwwd",
        "outputId": "5c384107-cd8f-400a-928c-539dc6345ef7"
      },
      "source": [
        "sum = 0\n",
        "for i in range(101):\n",
        "  if i % 2 == 1:\n",
        "    sum += i\n",
        "print(sum)"
      ],
      "execution_count": 2,
      "outputs": [
        {
          "output_type": "stream",
          "name": "stdout",
          "text": [
            "2500\n"
          ]
        }
      ]
    },
    {
      "cell_type": "code",
      "metadata": {
        "colab": {
          "base_uri": "https://localhost:8080/"
        },
        "id": "m_qneiOoXDzv",
        "outputId": "03524c66-ab07-435c-8883-946bd5fdce54"
      },
      "source": [
        "sum = 0\n",
        "i = 0\n",
        "while i <= 100:\n",
        "  if i % 2 == 1:\n",
        "    sum += i\n",
        "  i += 1\n",
        "print(sum)"
      ],
      "execution_count": 4,
      "outputs": [
        {
          "output_type": "stream",
          "name": "stdout",
          "text": [
            "2500\n"
          ]
        }
      ]
    },
    {
      "cell_type": "markdown",
      "metadata": {
        "id": "tbxtKUqcXU0c"
      },
      "source": [
        "3. ある正の整数$n$ に対して、$1^2 + 2^2 + \\cdots + n^2$ を計算する。$n$ はユーザが入力するものとする。"
      ]
    },
    {
      "cell_type": "code",
      "metadata": {
        "colab": {
          "base_uri": "https://localhost:8080/"
        },
        "id": "euPfp5xnXzmh",
        "outputId": "ebd0b9e5-53c1-44d4-9d27-fe341ac35bf9"
      },
      "source": [
        "n = int(input(\"整数を入力してください： \"))\n",
        "sum = 0\n",
        "for i in range(n+1):\n",
        "  sum += i ** 2\n",
        "print(sum)"
      ],
      "execution_count": 7,
      "outputs": [
        {
          "output_type": "stream",
          "name": "stdout",
          "text": [
            "整数を入力してください： 5\n",
            "55\n"
          ]
        }
      ]
    },
    {
      "cell_type": "code",
      "metadata": {
        "colab": {
          "base_uri": "https://localhost:8080/"
        },
        "id": "1586phvuadqx",
        "outputId": "4dd1409e-6036-4c2e-999c-9d1b0c45ea3b"
      },
      "source": [
        "n = int(input(\"整数を入力してください: \"))\n",
        "sum = 0\n",
        "i = 0\n",
        "while i <=n:\n",
        "  sum += i ** 2\n",
        "  i += 1\n",
        "print(sum)"
      ],
      "execution_count": 8,
      "outputs": [
        {
          "output_type": "stream",
          "name": "stdout",
          "text": [
            "整数を入力してください: 5\n",
            "55\n"
          ]
        }
      ]
    },
    {
      "cell_type": "markdown",
      "metadata": {
        "id": "7F4vmD3CaEqz"
      },
      "source": [
        "4. ある正の整数$n$に対して、$1$から$n$までの平均を計算する。$n$はユーザが入力するものとする。"
      ]
    },
    {
      "cell_type": "code",
      "metadata": {
        "colab": {
          "base_uri": "https://localhost:8080/"
        },
        "id": "rKoI67k5aVY0",
        "outputId": "5e0e2277-eee5-46a6-bdcd-861981f3787f"
      },
      "source": [
        "n = int(input(\"整数を入力してください： \"))\n",
        "sum = 0\n",
        "count = 0\n",
        "for i in range(n+1):\n",
        "  sum += i\n",
        "  count += 1\n",
        "print(sum / (count - 1))\n"
      ],
      "execution_count": 15,
      "outputs": [
        {
          "output_type": "stream",
          "name": "stdout",
          "text": [
            "整数を入力してください： 5\n",
            "3.0\n"
          ]
        }
      ]
    },
    {
      "cell_type": "code",
      "metadata": {
        "colab": {
          "base_uri": "https://localhost:8080/"
        },
        "id": "Kycj0Rola7jv",
        "outputId": "1ce3e04a-c3ea-4b00-9bf2-de4423813e54"
      },
      "source": [
        "n = int(input(\"整数を入力してください: \"))\n",
        "sum = 0\n",
        "i = 0\n",
        "count = 0\n",
        "while i <= n:\n",
        "  sum += i\n",
        "  count += 1\n",
        "  i += 1\n",
        "print(sum / (count - 1))"
      ],
      "execution_count": 12,
      "outputs": [
        {
          "output_type": "stream",
          "name": "stdout",
          "text": [
            "整数を入力してください: 5\n",
            "3.0\n"
          ]
        }
      ]
    },
    {
      "cell_type": "markdown",
      "metadata": {
        "id": "kXI6g3EeeN3t"
      },
      "source": [
        "5. ある正の整数$n$に対して、$1$以上$n$以下の奇数の平均を求める。$n$はユーザが入力するものとする。"
      ]
    },
    {
      "cell_type": "code",
      "metadata": {
        "colab": {
          "base_uri": "https://localhost:8080/"
        },
        "id": "MpDdLbAHeZla",
        "outputId": "6b42beb2-4814-422e-c507-8a06b390365e"
      },
      "source": [
        "n = int(input(\"整数を入力してください: \"))\n",
        "sum = 0\n",
        "count = 0\n",
        "for i in range(n+1):\n",
        "  if i % 2 == 1:\n",
        "    sum += i\n",
        "    count += 1\n",
        "print(sum / (count - 1))"
      ],
      "execution_count": 17,
      "outputs": [
        {
          "output_type": "stream",
          "name": "stdout",
          "text": [
            "整数を入力してください: 10\n",
            "6.25\n"
          ]
        }
      ]
    }
  ]
}